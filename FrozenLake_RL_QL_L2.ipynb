{
  "nbformat": 4,
  "nbformat_minor": 0,
  "metadata": {
    "colab": {
      "name": "FrozenLake RL QL L2",
      "provenance": [],
      "include_colab_link": true
    },
    "kernelspec": {
      "name": "python3",
      "display_name": "Python 3"
    }
  },
  "cells": [
    {
      "cell_type": "markdown",
      "metadata": {
        "id": "view-in-github",
        "colab_type": "text"
      },
      "source": [
        "<a href=\"https://colab.research.google.com/github/ishchuk/Deep_reinforcement_learning_Course/blob/master/FrozenLake_RL_QL_L2.ipynb\" target=\"_parent\"><img src=\"https://colab.research.google.com/assets/colab-badge.svg\" alt=\"Open In Colab\"/></a>"
      ]
    },
    {
      "cell_type": "code",
      "metadata": {
        "id": "oA8GfDBlkFzS",
        "colab_type": "code",
        "colab": {
          "base_uri": "https://localhost:8080/",
          "height": 336
        },
        "outputId": "cfed112d-3467-42ab-ba03-0eed63ffb69b"
      },
      "source": [
        "from IPython.display import HTML\n",
        "HTML('<iframe width=\"560\" height=\"315\" src=\"https://www.youtube.com/embed/q2ZOEFAaaI0?showinfo=0\" frameborder=\"0\" allow=\"autoplay; encrypted-media\" allowfullscreen></iframe>')"
      ],
      "execution_count": 1,
      "outputs": [
        {
          "output_type": "execute_result",
          "data": {
            "text/html": [
              "<iframe width=\"560\" height=\"315\" src=\"https://www.youtube.com/embed/q2ZOEFAaaI0?showinfo=0\" frameborder=\"0\" allow=\"autoplay; encrypted-media\" allowfullscreen></iframe>"
            ],
            "text/plain": [
              "<IPython.core.display.HTML object>"
            ]
          },
          "metadata": {
            "tags": []
          },
          "execution_count": 1
        }
      ]
    },
    {
      "cell_type": "code",
      "metadata": {
        "id": "u7dVz_QDpLTq",
        "colab_type": "code",
        "colab": {}
      },
      "source": [
        "import gym\n",
        "import numpy as np\n",
        "import random"
      ],
      "execution_count": 0,
      "outputs": []
    },
    {
      "cell_type": "code",
      "metadata": {
        "id": "HCuTY5cSpdWj",
        "colab_type": "code",
        "colab": {}
      },
      "source": [
        "env = gym.make(\"FrozenLake-v0\")"
      ],
      "execution_count": 0,
      "outputs": []
    },
    {
      "cell_type": "code",
      "metadata": {
        "id": "P6wT2zclpnho",
        "colab_type": "code",
        "colab": {}
      },
      "source": [
        "action_size = env.action_space.n\n",
        "state_size = env.observation_space.n"
      ],
      "execution_count": 0,
      "outputs": []
    },
    {
      "cell_type": "code",
      "metadata": {
        "id": "BTuifEfip1cj",
        "colab_type": "code",
        "colab": {
          "base_uri": "https://localhost:8080/",
          "height": 289
        },
        "outputId": "d8bd945d-5948-468a-9541-40983fbf2a13"
      },
      "source": [
        "qtable = np.zeros((state_size, action_size))\n",
        "print(qtable)"
      ],
      "execution_count": 6,
      "outputs": [
        {
          "output_type": "stream",
          "text": [
            "[[0. 0. 0. 0.]\n",
            " [0. 0. 0. 0.]\n",
            " [0. 0. 0. 0.]\n",
            " [0. 0. 0. 0.]\n",
            " [0. 0. 0. 0.]\n",
            " [0. 0. 0. 0.]\n",
            " [0. 0. 0. 0.]\n",
            " [0. 0. 0. 0.]\n",
            " [0. 0. 0. 0.]\n",
            " [0. 0. 0. 0.]\n",
            " [0. 0. 0. 0.]\n",
            " [0. 0. 0. 0.]\n",
            " [0. 0. 0. 0.]\n",
            " [0. 0. 0. 0.]\n",
            " [0. 0. 0. 0.]\n",
            " [0. 0. 0. 0.]]\n"
          ],
          "name": "stdout"
        }
      ]
    },
    {
      "cell_type": "code",
      "metadata": {
        "id": "YsJBj81hp-jz",
        "colab_type": "code",
        "colab": {}
      },
      "source": [
        "total_episodes = 30000\n",
        "learning_rate = 0.95\n",
        "max_steps = 100\n",
        "gamma = 0.95\n",
        "epsilon = 1.0\n",
        "max_epsilon=1.0\n",
        "min_epsilon=0.01\n",
        "decay_rate=0.015"
      ],
      "execution_count": 0,
      "outputs": []
    },
    {
      "cell_type": "code",
      "metadata": {
        "id": "wSHtW6xwuIkk",
        "colab_type": "code",
        "colab": {}
      },
      "source": [
        "from tqdm import tqdm"
      ],
      "execution_count": 0,
      "outputs": []
    },
    {
      "cell_type": "code",
      "metadata": {
        "id": "gS9od4OvqY3j",
        "colab_type": "code",
        "colab": {
          "base_uri": "https://localhost:8080/",
          "height": 323
        },
        "outputId": "73e02bf3-7ee8-4d70-e3c8-c3847df42110"
      },
      "source": [
        "#list of rewards\n",
        "rewards = []\n",
        "for episode in tqdm(range(total_episodes)):\n",
        "  #reset the env\n",
        "  state = env.reset()\n",
        "  step = 0\n",
        "  done = False\n",
        "  total_rewards = 0\n",
        "\n",
        "  for steps in range(max_steps):\n",
        "    #choose an action a in the current world state (s)\n",
        "    #randomize for the first time\n",
        "    exp_exp_tradeoff = random.uniform(0,1)\n",
        "\n",
        "    #if this number > greater than epsilon --> explitation (taking the biggest Q value for this state)\n",
        "    if exp_exp_tradeoff > epsilon:\n",
        "      action = np.argmax(qtable[state,:])\n",
        "      #else - doing a random choice > exploration\n",
        "    else:\n",
        "      action = env.action_space.sample()\n",
        "\n",
        "    new_state, reward, done, info = env.step(action)\n",
        "    qtable[state, action] = qtable[state, action] + learning_rate * (reward + gamma * np.max(qtable[new_state, :])- qtable[state, action])\n",
        "    total_rewards += reward\n",
        "    state = new_state\n",
        "    if done == True:\n",
        "      break\n",
        "    \n",
        "  epsilon = min_epsilon + (max_epsilon - min_epsilon)*np.exp(-decay_rate*episode)\n",
        "  rewards.append(total_rewards)\n",
        "\n",
        "print (\"Score over time: \" +  str(sum(rewards)/total_episodes))\n",
        "print(qtable)"
      ],
      "execution_count": 18,
      "outputs": [
        {
          "output_type": "stream",
          "text": [
            "100%|██████████| 30000/30000 [00:32<00:00, 915.36it/s] "
          ],
          "name": "stderr"
        },
        {
          "output_type": "stream",
          "text": [
            "Score over time: 0.44726666666666665\n",
            "[[2.61067324e-01 1.92375872e-02 1.58051297e-02 2.37954073e-02]\n",
            " [2.83203474e-05 1.07819924e-03 6.32105878e-04 2.38608109e-02]\n",
            " [1.22796928e-04 9.71554261e-04 7.78618125e-03 8.47187800e-03]\n",
            " [7.19829723e-04 2.18295579e-03 5.54788949e-04 8.15939792e-03]\n",
            " [3.38377306e-01 1.53457262e-02 1.10656060e-02 2.62041148e-01]\n",
            " [0.00000000e+00 0.00000000e+00 0.00000000e+00 0.00000000e+00]\n",
            " [8.30505797e-03 8.38788851e-22 3.69641198e-09 1.19769723e-08]\n",
            " [0.00000000e+00 0.00000000e+00 0.00000000e+00 0.00000000e+00]\n",
            " [1.20084563e-03 1.60319895e-02 8.48924321e-04 5.02881499e-01]\n",
            " [8.94326106e-05 6.50685275e-01 8.05295934e-06 1.62192586e-04]\n",
            " [1.83977882e-01 9.88248007e-05 2.51873736e-08 2.72251960e-04]\n",
            " [0.00000000e+00 0.00000000e+00 0.00000000e+00 0.00000000e+00]\n",
            " [0.00000000e+00 0.00000000e+00 0.00000000e+00 0.00000000e+00]\n",
            " [3.35709512e-02 2.33233444e-02 8.22307896e-01 4.05076320e-03]\n",
            " [7.48693532e-01 9.03672617e-01 7.37933556e-01 8.51597820e-02]\n",
            " [0.00000000e+00 0.00000000e+00 0.00000000e+00 0.00000000e+00]]\n"
          ],
          "name": "stdout"
        },
        {
          "output_type": "stream",
          "text": [
            "\n"
          ],
          "name": "stderr"
        }
      ]
    },
    {
      "cell_type": "code",
      "metadata": {
        "id": "P8zBnnM4vD2M",
        "colab_type": "code",
        "colab": {
          "base_uri": "https://localhost:8080/",
          "height": 697
        },
        "outputId": "ec774e30-55f2-4663-df4e-0798bf160ab9"
      },
      "source": [
        "env.reset()\n",
        "for episode in range(5):\n",
        "  state = env.reset()\n",
        "  step = 0\n",
        "  done = False\n",
        "  print('*********************************************')\n",
        "  print('EPISODE ', episode)\n",
        "\n",
        "  for step in range(max_steps):\n",
        "    action = np.argmax(qtable[state,:])\n",
        "    new_state, reward, done, info = env.step(action)\n",
        "    if done:\n",
        "      env.render()\n",
        "      print('Number Of Steps ', step)\n",
        "      break\n",
        "\n",
        "    state = new_state\n",
        "env.close()"
      ],
      "execution_count": 19,
      "outputs": [
        {
          "output_type": "stream",
          "text": [
            "*********************************************\n",
            "EPISODE  0\n",
            "  (Down)\n",
            "SFFF\n",
            "FHFH\n",
            "FFFH\n",
            "HFF\u001b[41mG\u001b[0m\n",
            "Number Of Steps  25\n",
            "*********************************************\n",
            "EPISODE  1\n",
            "  (Down)\n",
            "SFFF\n",
            "FHFH\n",
            "FFFH\n",
            "HFF\u001b[41mG\u001b[0m\n",
            "Number Of Steps  15\n",
            "*********************************************\n",
            "EPISODE  2\n",
            "  (Down)\n",
            "SFFF\n",
            "FHFH\n",
            "FFFH\n",
            "HFF\u001b[41mG\u001b[0m\n",
            "Number Of Steps  23\n",
            "*********************************************\n",
            "EPISODE  3\n",
            "  (Down)\n",
            "SFFF\n",
            "FHFH\n",
            "FFFH\n",
            "HFF\u001b[41mG\u001b[0m\n",
            "Number Of Steps  57\n",
            "*********************************************\n",
            "EPISODE  4\n",
            "  (Down)\n",
            "SFFF\n",
            "FHFH\n",
            "FFFH\n",
            "HFF\u001b[41mG\u001b[0m\n",
            "Number Of Steps  76\n"
          ],
          "name": "stdout"
        }
      ]
    },
    {
      "cell_type": "code",
      "metadata": {
        "id": "6zaFffFAvDxT",
        "colab_type": "code",
        "colab": {}
      },
      "source": [
        ""
      ],
      "execution_count": 0,
      "outputs": []
    },
    {
      "cell_type": "code",
      "metadata": {
        "id": "JQ5CfT4qtm2s",
        "colab_type": "code",
        "colab": {}
      },
      "source": [
        ""
      ],
      "execution_count": 0,
      "outputs": []
    }
  ]
}